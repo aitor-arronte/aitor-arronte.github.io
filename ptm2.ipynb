{
 "cells": [
  {
   "cell_type": "markdown",
   "metadata": {},
   "source": [
    "# Topic Modeling in Python"
   ]
  },
  {
   "cell_type": "markdown",
   "metadata": {},
   "source": [
    "## 3. Refining the model"
   ]
  },
  {
   "cell_type": "markdown",
   "metadata": {},
   "source": [
    "Next, we will use lemmatization, and bigrams, to obtain higher quality topics. We will be comparing the output of the model with the existing categories from the Reuters corpus."
   ]
  },
  {
   "cell_type": "code",
   "execution_count": 1,
   "metadata": {},
   "outputs": [],
   "source": [
    "import nltk\n",
    "import gensim"
   ]
  },
  {
   "cell_type": "markdown",
   "metadata": {},
   "source": [
    "Download English stop words from https://raw.githubusercontent.com/nltk/nltk_data/gh-pages/packages/corpora/stopwords.zip and place the content of the zip file in /Users/username/nltk_data/ and then import the dictionary of stopwords indicating the target language."
   ]
  },
  {
   "cell_type": "code",
   "execution_count": 2,
   "metadata": {},
   "outputs": [],
   "source": [
    "from nltk.corpus import stopwords\n",
    "stop_words = stopwords.words('english')\n",
    "#you can add as many words to the existing list as you consider depending on the context\n",
    "stop_words.extend(['yes', 'would', 'might', 'may','however', 'could'])"
   ]
  },
  {
   "cell_type": "code",
   "execution_count": 3,
   "metadata": {},
   "outputs": [],
   "source": [
    "#import the Reuters corpus from NLTK\n",
    "from nltk.corpus import reuters\n",
    "from nltk.stem.wordnet import WordNetLemmatizer\n",
    "#you can import your own corpus by using the following function from nltk.corpus import PlaintextCorpusReader\n",
    "#get all document ids from the corpus and then extract all the words for each document that are not stopwords\n",
    "doc_ids = reuters.fileids()\n",
    "corpus = [reuters.words(doc) for doc in doc_ids]\n",
    "corpus=[gensim.utils.simple_preprocess(str(\" \".join(c)), deacc=True) for c in corpus]\n",
    "corpus = [[word for word in doc if word not in stop_words if len(word)>3] for doc in corpus]\n",
    "lemma = WordNetLemmatizer()\n",
    "corpus = [[lemma.lemmatize(token) for token in doc] for doc in corpus]"
   ]
  },
  {
   "cell_type": "code",
   "execution_count": 4,
   "metadata": {},
   "outputs": [],
   "source": [
    "#Create bigrams given a minimum count\n",
    "bigrams = gensim.models.Phrases(corpus, min_count=5)\n",
    "bigrams_mod = gensim.models.phrases.Phraser(bigrams)\n",
    "data = [bigrams_mod[doc] for doc in corpus]"
   ]
  },
  {
   "cell_type": "code",
   "execution_count": 5,
   "metadata": {},
   "outputs": [],
   "source": [
    "#Prepare data for input in the Topic Model\n",
    "word_id = gensim.corpora.Dictionary(data)\n",
    "texts = [word_id.doc2bow(d) for d in data]"
   ]
  },
  {
   "cell_type": "code",
   "execution_count": 6,
   "metadata": {},
   "outputs": [],
   "source": [
    "#Model definition\n",
    "topic_model = gensim.models.ldamodel.LdaModel(corpus=texts,\n",
    "                                           id2word=word_id,\n",
    "                                           num_topics=10, \n",
    "                                           random_state=100,\n",
    "                                           update_every=1,\n",
    "                                           chunksize=100,\n",
    "                                           passes=10,\n",
    "                                           alpha='auto',\n",
    "                                           per_word_topics=True)"
   ]
  },
  {
   "cell_type": "code",
   "execution_count": 7,
   "metadata": {},
   "outputs": [
    {
     "name": "stdout",
     "output_type": "stream",
     "text": [
      "[(0,\n",
      "  '0.072*\"loss_loss\" + 0.046*\"rev\" + 0.042*\"profit_loss\" + 0.030*\"gulf\" + '\n",
      "  '0.021*\"iran\" + 0.014*\"oper\" + 0.012*\"missile\" + 0.012*\"american\" + '\n",
      "  '0.012*\"network\" + 0.009*\"loss_rev\"'),\n",
      " (1,\n",
      "  '0.047*\"bank\" + 0.039*\"said\" + 0.024*\"dollar\" + 0.022*\"rate\" + '\n",
      "  '0.019*\"market\" + 0.014*\"currency\" + 0.011*\"growth\" + 0.011*\"mark\" + '\n",
      "  '0.010*\"central_bank\" + 0.009*\"economy\"'),\n",
      " (2,\n",
      "  '0.133*\"dlrs\" + 0.071*\"year\" + 0.064*\"billion\" + 0.029*\"sale\" + 0.028*\"loss\" '\n",
      "  '+ 0.024*\"profit\" + 0.014*\"earnings\" + 0.013*\"share\" + 0.012*\"result\" + '\n",
      "  '0.010*\"quarter\"'),\n",
      " (3,\n",
      "  '0.053*\"said\" + 0.010*\"government\" + 0.010*\"trade\" + 0.008*\"market\" + '\n",
      "  '0.008*\"japan\" + 0.007*\"country\" + 0.007*\"also\" + 0.006*\"industry\" + '\n",
      "  '0.006*\"official\" + 0.005*\"world\"'),\n",
      " (4,\n",
      "  '0.086*\"said\" + 0.042*\"company\" + 0.030*\"share\" + 0.015*\"corp\" + '\n",
      "  '0.015*\"group\" + 0.011*\"unit\" + 0.011*\"stock\" + 0.010*\"dlrs\" + 0.010*\"offer\" '\n",
      "  '+ 0.008*\"also\"'),\n",
      " (5,\n",
      "  '0.047*\"dividend\" + 0.032*\"april\" + 0.026*\"rev_shrs\" + 0.020*\"three\" + '\n",
      "  '0.019*\"prior\" + 0.019*\"sterling\" + 0.018*\"told_reporter\" + '\n",
      "  '0.018*\"completed\" + 0.016*\"record_april\" + 0.015*\"corp\"'),\n",
      " (6,\n",
      "  '0.044*\"price\" + 0.031*\"barrel\" + 0.024*\"gold\" + 0.023*\"energy\" + '\n",
      "  '0.022*\"crude\" + 0.016*\"consumer\" + 0.015*\"agency\" + 0.014*\"petroleum\" + '\n",
      "  '0.013*\"review\" + 0.012*\"senate\"'),\n",
      " (7,\n",
      "  '0.035*\"said\" + 0.020*\"january\" + 0.019*\"february\" + 0.019*\"tonne\" + '\n",
      "  '0.018*\"export\" + 0.017*\"year\" + 0.014*\"rise\" + 0.014*\"price\" + '\n",
      "  '0.012*\"dealer\" + 0.011*\"rose\"'),\n",
      " (8,\n",
      "  '0.032*\"buffer_stock\" + 0.028*\"brazil\" + 0.027*\"delegate\" + 0.019*\"coffee\" + '\n",
      "  '0.018*\"technology\" + 0.017*\"saving\" + 0.017*\"cocoa\" + 0.016*\"producer\" + '\n",
      "  '0.016*\"certificate\" + 0.016*\"april_record\"'),\n",
      " (9,\n",
      "  '0.088*\"stake\" + 0.065*\"canada\" + 0.053*\"canadian\" + 0.034*\"standard\" + '\n",
      "  '0.033*\"gencorp\" + 0.022*\"hong_kong\" + 0.015*\"zealand\" + 0.013*\"next_month\" '\n",
      "  '+ 0.012*\"holding_company\" + 0.011*\"pacific\"')]\n"
     ]
    }
   ],
   "source": [
    "#Print topics and the words associated with each \n",
    "from pprint import pprint\n",
    "pprint(topic_model.print_topics())"
   ]
  },
  {
   "cell_type": "code",
   "execution_count": 8,
   "metadata": {},
   "outputs": [
    {
     "data": {
      "text/plain": [
       "-8.822482420353063"
      ]
     },
     "execution_count": 8,
     "metadata": {},
     "output_type": "execute_result"
    }
   ],
   "source": [
    "#perplexity value\n",
    "topic_model.log_perplexity(texts)"
   ]
  },
  {
   "cell_type": "code",
   "execution_count": 9,
   "metadata": {},
   "outputs": [
    {
     "data": {
      "text/plain": [
       "-5.917017007449319"
      ]
     },
     "execution_count": 9,
     "metadata": {},
     "output_type": "execute_result"
    }
   ],
   "source": [
    "#coherence value\n",
    "coherence=gensim.models.CoherenceModel(model=topic_model, corpus=texts, coherence='u_mass')\n",
    "coherence.get_coherence()"
   ]
  },
  {
   "cell_type": "code",
   "execution_count": 10,
   "metadata": {},
   "outputs": [
    {
     "name": "stdout",
     "output_type": "stream",
     "text": [
      "Reuters has 90 categories:\n",
      "['acq', 'alum', 'barley', 'bop', 'carcass', 'castor-oil', 'cocoa', 'coconut', 'coconut-oil', 'coffee', 'copper', 'copra-cake', 'corn', 'cotton', 'cotton-oil', 'cpi', 'cpu', 'crude', 'dfl', 'dlr', 'dmk', 'earn', 'fuel', 'gas', 'gnp', 'gold', 'grain', 'groundnut', 'groundnut-oil', 'heat', 'hog', 'housing', 'income', 'instal-debt', 'interest', 'ipi', 'iron-steel', 'jet', 'jobs', 'l-cattle', 'lead', 'lei', 'lin-oil', 'livestock', 'lumber', 'meal-feed', 'money-fx', 'money-supply', 'naphtha', 'nat-gas', 'nickel', 'nkr', 'nzdlr', 'oat', 'oilseed', 'orange', 'palladium', 'palm-oil', 'palmkernel', 'pet-chem', 'platinum', 'potato', 'propane', 'rand', 'rape-oil', 'rapeseed', 'reserves', 'retail', 'rice', 'rubber', 'rye', 'ship', 'silver', 'sorghum', 'soy-meal', 'soy-oil', 'soybean', 'strategic-metal', 'sugar', 'sun-meal', 'sun-oil', 'sunseed', 'tea', 'tin', 'trade', 'veg-oil', 'wheat', 'wpi', 'yen', 'zinc']\n"
     ]
    }
   ],
   "source": [
    "cats = reuters.categories()\n",
    "print(\"Reuters has %d categories:\\n%s\" % (len(cats), cats))"
   ]
  },
  {
   "cell_type": "markdown",
   "metadata": {},
   "source": [
    "How does the output of the model compare with the corpus categories?\n",
    "\n",
    "How does the lemmatization process improve the results?"
   ]
  },
  {
   "cell_type": "markdown",
   "metadata": {},
   "source": [
    "Continue to [PTM for summarization](summarization.ipynb)"
   ]
  }
 ],
 "metadata": {
  "kernelspec": {
   "display_name": "Python 3",
   "language": "python",
   "name": "python3"
  },
  "language_info": {
   "codemirror_mode": {
    "name": "ipython",
    "version": 3
   },
   "file_extension": ".py",
   "mimetype": "text/x-python",
   "name": "python",
   "nbconvert_exporter": "python",
   "pygments_lexer": "ipython3",
   "version": "3.6.5"
  }
 },
 "nbformat": 4,
 "nbformat_minor": 2
}
